{
 "cells": [
  {
   "cell_type": "code",
   "execution_count": null,
   "id": "34c33bcb-f1fd-46de-9044-398928ffb5f9",
   "metadata": {},
   "outputs": [],
   "source": [
    "import pandas as pd"
   ]
  },
  {
   "cell_type": "code",
   "execution_count": null,
   "id": "bb2693bb-eab0-49c6-a0b5-58faa65cd78f",
   "metadata": {},
   "outputs": [],
   "source": [
    "raw_df = pd.read_csv(\"data/touches.csv\")"
   ]
  },
  {
   "cell_type": "code",
   "execution_count": null,
   "id": "5ff5daea-d341-440f-ad5d-b4e2f85e6228",
   "metadata": {},
   "outputs": [],
   "source": [
    "touches = raw_df.copy()"
   ]
  },
  {
   "cell_type": "code",
   "execution_count": null,
   "id": "bf2fce5a-794a-4cba-a060-a7fea677b553",
   "metadata": {},
   "outputs": [],
   "source": [
    "touches.head()"
   ]
  },
  {
   "cell_type": "code",
   "execution_count": null,
   "id": "9434277b-25df-41de-8f01-727da425f7c3",
   "metadata": {},
   "outputs": [],
   "source": [
    "container = []\n",
    "\n",
    "for index, row in touches.iterrows():\n",
    "    if row[\"half\"] == 2:\n",
    "        if row[\"from\"] == \"ronaldo\":\n",
    "            container.append([ row[\"start_x\"], row[\"start_y\"]])\n",
    "        elif row[\"to\"] == \"ronaldo\":\n",
    "            container.append( [ row[\"end_x\"], row[\"end_y\"]])\n",
    "    elif row[\"half\"] == 1:\n",
    "        if row[\"from\"] == \"ronaldo\":\n",
    "            container.append( [105-row[\"start_x\"], 68-row[\"start_y\"]])\n",
    "        elif row[\"to\"] == \"ronaldo\":\n",
    "            container.append( [105-row[\"end_x\"], 68-row[\"end_y\"]])\n",
    "        "
   ]
  },
  {
   "cell_type": "code",
   "execution_count": null,
   "id": "25f45478-a087-4af1-b282-1d74d8e494cf",
   "metadata": {},
   "outputs": [],
   "source": [
    "container[:10]"
   ]
  },
  {
   "cell_type": "code",
   "execution_count": null,
   "id": "714fb64a-8c9b-4f1d-a769-b4493e0d9f36",
   "metadata": {},
   "outputs": [],
   "source": [
    "from PIL import Image"
   ]
  },
  {
   "cell_type": "code",
   "execution_count": null,
   "id": "e7f16d95-4a24-4c15-b70b-23ed16eed0d8",
   "metadata": {},
   "outputs": [],
   "source": [
    "pitch = Image.open(\"data/pitch.png\").convert(\"RGBA\")"
   ]
  },
  {
   "cell_type": "code",
   "execution_count": null,
   "id": "04297712-f7fe-4ffc-b7a5-ce713ec27a4b",
   "metadata": {},
   "outputs": [],
   "source": [
    "ronaldo = Image.open(\"data/man_u/ronaldo.png\").convert(\"RGBA\")"
   ]
  },
  {
   "cell_type": "code",
   "execution_count": null,
   "id": "01c28ecb-fd50-4acd-b8f0-397db11543aa",
   "metadata": {},
   "outputs": [],
   "source": [
    "import matplotlib.pyplot as plt"
   ]
  },
  {
   "cell_type": "code",
   "execution_count": null,
   "id": "094bdd28-5178-4e41-ace1-73d195997e13",
   "metadata": {},
   "outputs": [],
   "source": [
    "plt.imshow(ronaldo)"
   ]
  },
  {
   "cell_type": "code",
   "execution_count": null,
   "id": "bb86128b-e286-452a-aa58-3c868a41da10",
   "metadata": {},
   "outputs": [],
   "source": [
    "from matplotlib.offsetbox import OffsetImage, AnnotationBbox"
   ]
  },
  {
   "cell_type": "code",
   "execution_count": null,
   "id": "a25d1503-5ef2-42d2-a037-409c24d35d87",
   "metadata": {},
   "outputs": [],
   "source": [
    "fig, ax = plt.subplots(figsize=(52.5, 34))\n",
    "\n",
    "plt.axis( [0, 105, 0, 68] )\n",
    "\n",
    "for i in container:\n",
    "    offset = OffsetImage( ronaldo, zoom=0.045)\n",
    "    ax.add_artist(AnnotationBbox(offset, i, frameon=False))\n",
    "\n",
    "ax.imshow(pitch, extent=[0,105,0,68])\n",
    "plt.tight_layout()\n",
    "#plt.savefig(\"ronaldo_touches.png\");"
   ]
  },
  {
   "cell_type": "code",
   "execution_count": null,
   "id": "261dbcc7-9d93-4fbe-a5be-1257a0b55b38",
   "metadata": {},
   "outputs": [],
   "source": []
  },
  {
   "cell_type": "code",
   "execution_count": null,
   "id": "af19dd5a-e64c-4f95-b049-2f72668a440a",
   "metadata": {},
   "outputs": [],
   "source": []
  },
  {
   "cell_type": "code",
   "execution_count": null,
   "id": "fc3577dd-8c27-4ef7-8f02-b9e3f4f9e5d1",
   "metadata": {},
   "outputs": [],
   "source": []
  },
  {
   "cell_type": "code",
   "execution_count": null,
   "id": "79af7ad9-1957-4bb4-bcae-846404ed64f6",
   "metadata": {},
   "outputs": [],
   "source": []
  }
 ],
 "metadata": {
  "kernelspec": {
   "display_name": "Python 3 (ipykernel)",
   "language": "python",
   "name": "python3"
  },
  "language_info": {
   "codemirror_mode": {
    "name": "ipython",
    "version": 3
   },
   "file_extension": ".py",
   "mimetype": "text/x-python",
   "name": "python",
   "nbconvert_exporter": "python",
   "pygments_lexer": "ipython3",
   "version": "3.9.7"
  }
 },
 "nbformat": 4,
 "nbformat_minor": 5
}
